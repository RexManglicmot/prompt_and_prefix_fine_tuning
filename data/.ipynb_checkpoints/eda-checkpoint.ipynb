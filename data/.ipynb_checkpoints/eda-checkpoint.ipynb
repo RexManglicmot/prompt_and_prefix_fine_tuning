{
 "cells": [
  {
   "cell_type": "code",
   "execution_count": 11,
   "id": "217dddea",
   "metadata": {},
   "outputs": [],
   "source": [
    "import pandas as pd\n",
    "import json"
   ]
  },
  {
   "cell_type": "code",
   "execution_count": 12,
   "id": "9e7a210d-cf02-43de-bf79-c1d200150a42",
   "metadata": {},
   "outputs": [
    {
     "ename": "FileNotFoundError",
     "evalue": "File workspace/prompt_and_prefix_fine_tuning/data/raw/ori_pqal.json does not exist",
     "output_type": "error",
     "traceback": [
      "\u001b[31m---------------------------------------------------------------------------\u001b[39m",
      "\u001b[31mFileNotFoundError\u001b[39m                         Traceback (most recent call last)",
      "\u001b[36mCell\u001b[39m\u001b[36m \u001b[39m\u001b[32mIn[12]\u001b[39m\u001b[32m, line 2\u001b[39m\n\u001b[32m      1\u001b[39m \u001b[38;5;66;03m# 8/30/25\u001b[39;00m\n\u001b[32m----> \u001b[39m\u001b[32m2\u001b[39m df = \u001b[43mpd\u001b[49m\u001b[43m.\u001b[49m\u001b[43mread_json\u001b[49m\u001b[43m(\u001b[49m\u001b[33;43m\"\u001b[39;49m\u001b[33;43mworkspace/prompt_and_prefix_fine_tuning/data/raw/ori_pqal.json\u001b[39;49m\u001b[33;43m\"\u001b[39;49m\u001b[43m)\u001b[49m\n",
      "\u001b[36mFile \u001b[39m\u001b[32m/opt/conda/lib/python3.12/site-packages/pandas/io/json/_json.py:791\u001b[39m, in \u001b[36mread_json\u001b[39m\u001b[34m(path_or_buf, orient, typ, dtype, convert_axes, convert_dates, keep_default_dates, precise_float, date_unit, encoding, encoding_errors, lines, chunksize, compression, nrows, storage_options, dtype_backend, engine)\u001b[39m\n\u001b[32m    788\u001b[39m \u001b[38;5;28;01mif\u001b[39;00m convert_axes \u001b[38;5;129;01mis\u001b[39;00m \u001b[38;5;28;01mNone\u001b[39;00m \u001b[38;5;129;01mand\u001b[39;00m orient != \u001b[33m\"\u001b[39m\u001b[33mtable\u001b[39m\u001b[33m\"\u001b[39m:\n\u001b[32m    789\u001b[39m     convert_axes = \u001b[38;5;28;01mTrue\u001b[39;00m\n\u001b[32m--> \u001b[39m\u001b[32m791\u001b[39m json_reader = \u001b[43mJsonReader\u001b[49m\u001b[43m(\u001b[49m\n\u001b[32m    792\u001b[39m \u001b[43m    \u001b[49m\u001b[43mpath_or_buf\u001b[49m\u001b[43m,\u001b[49m\n\u001b[32m    793\u001b[39m \u001b[43m    \u001b[49m\u001b[43morient\u001b[49m\u001b[43m=\u001b[49m\u001b[43morient\u001b[49m\u001b[43m,\u001b[49m\n\u001b[32m    794\u001b[39m \u001b[43m    \u001b[49m\u001b[43mtyp\u001b[49m\u001b[43m=\u001b[49m\u001b[43mtyp\u001b[49m\u001b[43m,\u001b[49m\n\u001b[32m    795\u001b[39m \u001b[43m    \u001b[49m\u001b[43mdtype\u001b[49m\u001b[43m=\u001b[49m\u001b[43mdtype\u001b[49m\u001b[43m,\u001b[49m\n\u001b[32m    796\u001b[39m \u001b[43m    \u001b[49m\u001b[43mconvert_axes\u001b[49m\u001b[43m=\u001b[49m\u001b[43mconvert_axes\u001b[49m\u001b[43m,\u001b[49m\n\u001b[32m    797\u001b[39m \u001b[43m    \u001b[49m\u001b[43mconvert_dates\u001b[49m\u001b[43m=\u001b[49m\u001b[43mconvert_dates\u001b[49m\u001b[43m,\u001b[49m\n\u001b[32m    798\u001b[39m \u001b[43m    \u001b[49m\u001b[43mkeep_default_dates\u001b[49m\u001b[43m=\u001b[49m\u001b[43mkeep_default_dates\u001b[49m\u001b[43m,\u001b[49m\n\u001b[32m    799\u001b[39m \u001b[43m    \u001b[49m\u001b[43mprecise_float\u001b[49m\u001b[43m=\u001b[49m\u001b[43mprecise_float\u001b[49m\u001b[43m,\u001b[49m\n\u001b[32m    800\u001b[39m \u001b[43m    \u001b[49m\u001b[43mdate_unit\u001b[49m\u001b[43m=\u001b[49m\u001b[43mdate_unit\u001b[49m\u001b[43m,\u001b[49m\n\u001b[32m    801\u001b[39m \u001b[43m    \u001b[49m\u001b[43mencoding\u001b[49m\u001b[43m=\u001b[49m\u001b[43mencoding\u001b[49m\u001b[43m,\u001b[49m\n\u001b[32m    802\u001b[39m \u001b[43m    \u001b[49m\u001b[43mlines\u001b[49m\u001b[43m=\u001b[49m\u001b[43mlines\u001b[49m\u001b[43m,\u001b[49m\n\u001b[32m    803\u001b[39m \u001b[43m    \u001b[49m\u001b[43mchunksize\u001b[49m\u001b[43m=\u001b[49m\u001b[43mchunksize\u001b[49m\u001b[43m,\u001b[49m\n\u001b[32m    804\u001b[39m \u001b[43m    \u001b[49m\u001b[43mcompression\u001b[49m\u001b[43m=\u001b[49m\u001b[43mcompression\u001b[49m\u001b[43m,\u001b[49m\n\u001b[32m    805\u001b[39m \u001b[43m    \u001b[49m\u001b[43mnrows\u001b[49m\u001b[43m=\u001b[49m\u001b[43mnrows\u001b[49m\u001b[43m,\u001b[49m\n\u001b[32m    806\u001b[39m \u001b[43m    \u001b[49m\u001b[43mstorage_options\u001b[49m\u001b[43m=\u001b[49m\u001b[43mstorage_options\u001b[49m\u001b[43m,\u001b[49m\n\u001b[32m    807\u001b[39m \u001b[43m    \u001b[49m\u001b[43mencoding_errors\u001b[49m\u001b[43m=\u001b[49m\u001b[43mencoding_errors\u001b[49m\u001b[43m,\u001b[49m\n\u001b[32m    808\u001b[39m \u001b[43m    \u001b[49m\u001b[43mdtype_backend\u001b[49m\u001b[43m=\u001b[49m\u001b[43mdtype_backend\u001b[49m\u001b[43m,\u001b[49m\n\u001b[32m    809\u001b[39m \u001b[43m    \u001b[49m\u001b[43mengine\u001b[49m\u001b[43m=\u001b[49m\u001b[43mengine\u001b[49m\u001b[43m,\u001b[49m\n\u001b[32m    810\u001b[39m \u001b[43m\u001b[49m\u001b[43m)\u001b[49m\n\u001b[32m    812\u001b[39m \u001b[38;5;28;01mif\u001b[39;00m chunksize:\n\u001b[32m    813\u001b[39m     \u001b[38;5;28;01mreturn\u001b[39;00m json_reader\n",
      "\u001b[36mFile \u001b[39m\u001b[32m/opt/conda/lib/python3.12/site-packages/pandas/io/json/_json.py:904\u001b[39m, in \u001b[36mJsonReader.__init__\u001b[39m\u001b[34m(self, filepath_or_buffer, orient, typ, dtype, convert_axes, convert_dates, keep_default_dates, precise_float, date_unit, encoding, lines, chunksize, compression, nrows, storage_options, encoding_errors, dtype_backend, engine)\u001b[39m\n\u001b[32m    902\u001b[39m     \u001b[38;5;28mself\u001b[39m.data = filepath_or_buffer\n\u001b[32m    903\u001b[39m \u001b[38;5;28;01melif\u001b[39;00m \u001b[38;5;28mself\u001b[39m.engine == \u001b[33m\"\u001b[39m\u001b[33mujson\u001b[39m\u001b[33m\"\u001b[39m:\n\u001b[32m--> \u001b[39m\u001b[32m904\u001b[39m     data = \u001b[38;5;28;43mself\u001b[39;49m\u001b[43m.\u001b[49m\u001b[43m_get_data_from_filepath\u001b[49m\u001b[43m(\u001b[49m\u001b[43mfilepath_or_buffer\u001b[49m\u001b[43m)\u001b[49m\n\u001b[32m    905\u001b[39m     \u001b[38;5;28mself\u001b[39m.data = \u001b[38;5;28mself\u001b[39m._preprocess_data(data)\n",
      "\u001b[36mFile \u001b[39m\u001b[32m/opt/conda/lib/python3.12/site-packages/pandas/io/json/_json.py:960\u001b[39m, in \u001b[36mJsonReader._get_data_from_filepath\u001b[39m\u001b[34m(self, filepath_or_buffer)\u001b[39m\n\u001b[32m    952\u001b[39m     filepath_or_buffer = \u001b[38;5;28mself\u001b[39m.handles.handle\n\u001b[32m    953\u001b[39m \u001b[38;5;28;01melif\u001b[39;00m (\n\u001b[32m    954\u001b[39m     \u001b[38;5;28misinstance\u001b[39m(filepath_or_buffer, \u001b[38;5;28mstr\u001b[39m)\n\u001b[32m    955\u001b[39m     \u001b[38;5;129;01mand\u001b[39;00m filepath_or_buffer.lower().endswith(\n\u001b[32m   (...)\u001b[39m\u001b[32m    958\u001b[39m     \u001b[38;5;129;01mand\u001b[39;00m \u001b[38;5;129;01mnot\u001b[39;00m file_exists(filepath_or_buffer)\n\u001b[32m    959\u001b[39m ):\n\u001b[32m--> \u001b[39m\u001b[32m960\u001b[39m     \u001b[38;5;28;01mraise\u001b[39;00m \u001b[38;5;167;01mFileNotFoundError\u001b[39;00m(\u001b[33mf\u001b[39m\u001b[33m\"\u001b[39m\u001b[33mFile \u001b[39m\u001b[38;5;132;01m{\u001b[39;00mfilepath_or_buffer\u001b[38;5;132;01m}\u001b[39;00m\u001b[33m does not exist\u001b[39m\u001b[33m\"\u001b[39m)\n\u001b[32m    961\u001b[39m \u001b[38;5;28;01melse\u001b[39;00m:\n\u001b[32m    962\u001b[39m     warnings.warn(\n\u001b[32m    963\u001b[39m         \u001b[33m\"\u001b[39m\u001b[33mPassing literal json to \u001b[39m\u001b[33m'\u001b[39m\u001b[33mread_json\u001b[39m\u001b[33m'\u001b[39m\u001b[33m is deprecated and \u001b[39m\u001b[33m\"\u001b[39m\n\u001b[32m    964\u001b[39m         \u001b[33m\"\u001b[39m\u001b[33mwill be removed in a future version. To read from a \u001b[39m\u001b[33m\"\u001b[39m\n\u001b[32m   (...)\u001b[39m\u001b[32m    967\u001b[39m         stacklevel=find_stack_level(),\n\u001b[32m    968\u001b[39m     )\n",
      "\u001b[31mFileNotFoundError\u001b[39m: File workspace/prompt_and_prefix_fine_tuning/data/raw/ori_pqal.json does not exist"
     ]
    }
   ],
   "source": [
    "# 8/30/25\n",
    "df = pd.read_json(\"workspace/prompt_and_prefix_fine_tuning/data/raw/ori_pqal.json\")"
   ]
  },
  {
   "cell_type": "code",
   "execution_count": 2,
   "id": "9f68cae5-016e-4053-b21b-76028a0bdbaa",
   "metadata": {},
   "outputs": [],
   "source": [
    "df.head()"
   ]
  },
  {
   "cell_type": "code",
   "execution_count": 2,
   "id": "896a7e5a-6158-404c-add8-014aec45b996",
   "metadata": {},
   "outputs": [],
   "source": [
    "# Invert\n",
    "df2 = df.T"
   ]
  },
  {
   "cell_type": "code",
   "execution_count": 8,
   "id": "eb54ea32",
   "metadata": {},
   "outputs": [
    {
     "data": {
      "text/html": [
       "<div>\n",
       "<style scoped>\n",
       "    .dataframe tbody tr th:only-of-type {\n",
       "        vertical-align: middle;\n",
       "    }\n",
       "\n",
       "    .dataframe tbody tr th {\n",
       "        vertical-align: top;\n",
       "    }\n",
       "\n",
       "    .dataframe thead th {\n",
       "        text-align: right;\n",
       "    }\n",
       "</style>\n",
       "<table border=\"1\" class=\"dataframe\">\n",
       "  <thead>\n",
       "    <tr style=\"text-align: right;\">\n",
       "      <th></th>\n",
       "      <th>QUESTION</th>\n",
       "      <th>CONTEXTS</th>\n",
       "      <th>LABELS</th>\n",
       "      <th>MESHES</th>\n",
       "      <th>YEAR</th>\n",
       "      <th>reasoning_required_pred</th>\n",
       "      <th>reasoning_free_pred</th>\n",
       "      <th>final_decision</th>\n",
       "      <th>LONG_ANSWER</th>\n",
       "    </tr>\n",
       "  </thead>\n",
       "  <tbody>\n",
       "    <tr>\n",
       "      <th>21645374</th>\n",
       "      <td>Do mitochondria play a role in remodelling lac...</td>\n",
       "      <td>[Programmed cell death (PCD) is the regulated ...</td>\n",
       "      <td>[BACKGROUND, RESULTS]</td>\n",
       "      <td>[Alismataceae, Apoptosis, Cell Differentiation...</td>\n",
       "      <td>2011</td>\n",
       "      <td>yes</td>\n",
       "      <td>yes</td>\n",
       "      <td>yes</td>\n",
       "      <td>Results depicted mitochondrial dynamics in viv...</td>\n",
       "    </tr>\n",
       "    <tr>\n",
       "      <th>16418930</th>\n",
       "      <td>Landolt C and snellen e acuity: differences in...</td>\n",
       "      <td>[Assessment of visual acuity depends on the op...</td>\n",
       "      <td>[BACKGROUND, PATIENTS AND METHODS, RESULTS]</td>\n",
       "      <td>[Adolescent, Adult, Aged, Aged, 80 and over, A...</td>\n",
       "      <td>2006</td>\n",
       "      <td>no</td>\n",
       "      <td>no</td>\n",
       "      <td>no</td>\n",
       "      <td>Using the charts described, there was only a s...</td>\n",
       "    </tr>\n",
       "    <tr>\n",
       "      <th>9488747</th>\n",
       "      <td>Syncope during bathing in infants, a pediatric...</td>\n",
       "      <td>[Apparent life-threatening events in infants a...</td>\n",
       "      <td>[BACKGROUND, CASE REPORTS]</td>\n",
       "      <td>[Baths, Histamine, Humans, Infant, Syncope, Ur...</td>\n",
       "      <td>1997</td>\n",
       "      <td>yes</td>\n",
       "      <td>yes</td>\n",
       "      <td>yes</td>\n",
       "      <td>\"Aquagenic maladies\" could be a pediatric form...</td>\n",
       "    </tr>\n",
       "    <tr>\n",
       "      <th>17208539</th>\n",
       "      <td>Are the long-term results of the transanal pul...</td>\n",
       "      <td>[The transanal endorectal pull-through (TERPT)...</td>\n",
       "      <td>[PURPOSE, METHODS, RESULTS]</td>\n",
       "      <td>[Child, Child, Preschool, Colectomy, Female, H...</td>\n",
       "      <td>2007</td>\n",
       "      <td>yes</td>\n",
       "      <td>no</td>\n",
       "      <td>no</td>\n",
       "      <td>Our long-term study showed significantly bette...</td>\n",
       "    </tr>\n",
       "    <tr>\n",
       "      <th>10808977</th>\n",
       "      <td>Can tailored interventions increase mammograph...</td>\n",
       "      <td>[Telephone counseling and tailored print commu...</td>\n",
       "      <td>[BACKGROUND, DESIGN, PARTICIPANTS, INTERVENTIO...</td>\n",
       "      <td>[Cost-Benefit Analysis, Female, Health Mainten...</td>\n",
       "      <td>2000</td>\n",
       "      <td>yes</td>\n",
       "      <td>no</td>\n",
       "      <td>yes</td>\n",
       "      <td>The effects of the intervention were most pron...</td>\n",
       "    </tr>\n",
       "  </tbody>\n",
       "</table>\n",
       "</div>"
      ],
      "text/plain": [
       "                                                   QUESTION  \\\n",
       "21645374  Do mitochondria play a role in remodelling lac...   \n",
       "16418930  Landolt C and snellen e acuity: differences in...   \n",
       "9488747   Syncope during bathing in infants, a pediatric...   \n",
       "17208539  Are the long-term results of the transanal pul...   \n",
       "10808977  Can tailored interventions increase mammograph...   \n",
       "\n",
       "                                                   CONTEXTS  \\\n",
       "21645374  [Programmed cell death (PCD) is the regulated ...   \n",
       "16418930  [Assessment of visual acuity depends on the op...   \n",
       "9488747   [Apparent life-threatening events in infants a...   \n",
       "17208539  [The transanal endorectal pull-through (TERPT)...   \n",
       "10808977  [Telephone counseling and tailored print commu...   \n",
       "\n",
       "                                                     LABELS  \\\n",
       "21645374                              [BACKGROUND, RESULTS]   \n",
       "16418930        [BACKGROUND, PATIENTS AND METHODS, RESULTS]   \n",
       "9488747                          [BACKGROUND, CASE REPORTS]   \n",
       "17208539                        [PURPOSE, METHODS, RESULTS]   \n",
       "10808977  [BACKGROUND, DESIGN, PARTICIPANTS, INTERVENTIO...   \n",
       "\n",
       "                                                     MESHES  YEAR  \\\n",
       "21645374  [Alismataceae, Apoptosis, Cell Differentiation...  2011   \n",
       "16418930  [Adolescent, Adult, Aged, Aged, 80 and over, A...  2006   \n",
       "9488747   [Baths, Histamine, Humans, Infant, Syncope, Ur...  1997   \n",
       "17208539  [Child, Child, Preschool, Colectomy, Female, H...  2007   \n",
       "10808977  [Cost-Benefit Analysis, Female, Health Mainten...  2000   \n",
       "\n",
       "         reasoning_required_pred reasoning_free_pred final_decision  \\\n",
       "21645374                     yes                 yes            yes   \n",
       "16418930                      no                  no             no   \n",
       "9488747                      yes                 yes            yes   \n",
       "17208539                     yes                  no             no   \n",
       "10808977                     yes                  no            yes   \n",
       "\n",
       "                                                LONG_ANSWER  \n",
       "21645374  Results depicted mitochondrial dynamics in viv...  \n",
       "16418930  Using the charts described, there was only a s...  \n",
       "9488747   \"Aquagenic maladies\" could be a pediatric form...  \n",
       "17208539  Our long-term study showed significantly bette...  \n",
       "10808977  The effects of the intervention were most pron...  "
      ]
     },
     "execution_count": 8,
     "metadata": {},
     "output_type": "execute_result"
    }
   ],
   "source": [
    "df2.head()"
   ]
  },
  {
   "cell_type": "code",
   "execution_count": 8,
   "id": "b467aea6-9e4d-46e0-8f20-28964c735aa3",
   "metadata": {},
   "outputs": [
    {
     "data": {
      "text/html": [
       "<div>\n",
       "<style scoped>\n",
       "    .dataframe tbody tr th:only-of-type {\n",
       "        vertical-align: middle;\n",
       "    }\n",
       "\n",
       "    .dataframe tbody tr th {\n",
       "        vertical-align: top;\n",
       "    }\n",
       "\n",
       "    .dataframe thead th {\n",
       "        text-align: right;\n",
       "    }\n",
       "</style>\n",
       "<table border=\"1\" class=\"dataframe\">\n",
       "  <thead>\n",
       "    <tr style=\"text-align: right;\">\n",
       "      <th></th>\n",
       "      <th>QUESTION</th>\n",
       "      <th>CONTEXTS</th>\n",
       "      <th>LABELS</th>\n",
       "      <th>MESHES</th>\n",
       "      <th>YEAR</th>\n",
       "      <th>reasoning_required_pred</th>\n",
       "      <th>reasoning_free_pred</th>\n",
       "      <th>final_decision</th>\n",
       "      <th>LONG_ANSWER</th>\n",
       "    </tr>\n",
       "  </thead>\n",
       "  <tbody>\n",
       "    <tr>\n",
       "      <th>21645374</th>\n",
       "      <td>Do mitochondria play a role in remodelling lac...</td>\n",
       "      <td>[Programmed cell death (PCD) is the regulated ...</td>\n",
       "      <td>[BACKGROUND, RESULTS]</td>\n",
       "      <td>[Alismataceae, Apoptosis, Cell Differentiation...</td>\n",
       "      <td>2011</td>\n",
       "      <td>yes</td>\n",
       "      <td>yes</td>\n",
       "      <td>yes</td>\n",
       "      <td>Results depicted mitochondrial dynamics in viv...</td>\n",
       "    </tr>\n",
       "    <tr>\n",
       "      <th>16418930</th>\n",
       "      <td>Landolt C and snellen e acuity: differences in...</td>\n",
       "      <td>[Assessment of visual acuity depends on the op...</td>\n",
       "      <td>[BACKGROUND, PATIENTS AND METHODS, RESULTS]</td>\n",
       "      <td>[Adolescent, Adult, Aged, Aged, 80 and over, A...</td>\n",
       "      <td>2006</td>\n",
       "      <td>no</td>\n",
       "      <td>no</td>\n",
       "      <td>no</td>\n",
       "      <td>Using the charts described, there was only a s...</td>\n",
       "    </tr>\n",
       "    <tr>\n",
       "      <th>9488747</th>\n",
       "      <td>Syncope during bathing in infants, a pediatric...</td>\n",
       "      <td>[Apparent life-threatening events in infants a...</td>\n",
       "      <td>[BACKGROUND, CASE REPORTS]</td>\n",
       "      <td>[Baths, Histamine, Humans, Infant, Syncope, Ur...</td>\n",
       "      <td>1997</td>\n",
       "      <td>yes</td>\n",
       "      <td>yes</td>\n",
       "      <td>yes</td>\n",
       "      <td>\"Aquagenic maladies\" could be a pediatric form...</td>\n",
       "    </tr>\n",
       "    <tr>\n",
       "      <th>17208539</th>\n",
       "      <td>Are the long-term results of the transanal pul...</td>\n",
       "      <td>[The transanal endorectal pull-through (TERPT)...</td>\n",
       "      <td>[PURPOSE, METHODS, RESULTS]</td>\n",
       "      <td>[Child, Child, Preschool, Colectomy, Female, H...</td>\n",
       "      <td>2007</td>\n",
       "      <td>yes</td>\n",
       "      <td>no</td>\n",
       "      <td>no</td>\n",
       "      <td>Our long-term study showed significantly bette...</td>\n",
       "    </tr>\n",
       "    <tr>\n",
       "      <th>10808977</th>\n",
       "      <td>Can tailored interventions increase mammograph...</td>\n",
       "      <td>[Telephone counseling and tailored print commu...</td>\n",
       "      <td>[BACKGROUND, DESIGN, PARTICIPANTS, INTERVENTIO...</td>\n",
       "      <td>[Cost-Benefit Analysis, Female, Health Mainten...</td>\n",
       "      <td>2000</td>\n",
       "      <td>yes</td>\n",
       "      <td>no</td>\n",
       "      <td>yes</td>\n",
       "      <td>The effects of the intervention were most pron...</td>\n",
       "    </tr>\n",
       "  </tbody>\n",
       "</table>\n",
       "</div>"
      ],
      "text/plain": [
       "                                                   QUESTION  \\\n",
       "21645374  Do mitochondria play a role in remodelling lac...   \n",
       "16418930  Landolt C and snellen e acuity: differences in...   \n",
       "9488747   Syncope during bathing in infants, a pediatric...   \n",
       "17208539  Are the long-term results of the transanal pul...   \n",
       "10808977  Can tailored interventions increase mammograph...   \n",
       "\n",
       "                                                   CONTEXTS  \\\n",
       "21645374  [Programmed cell death (PCD) is the regulated ...   \n",
       "16418930  [Assessment of visual acuity depends on the op...   \n",
       "9488747   [Apparent life-threatening events in infants a...   \n",
       "17208539  [The transanal endorectal pull-through (TERPT)...   \n",
       "10808977  [Telephone counseling and tailored print commu...   \n",
       "\n",
       "                                                     LABELS  \\\n",
       "21645374                              [BACKGROUND, RESULTS]   \n",
       "16418930        [BACKGROUND, PATIENTS AND METHODS, RESULTS]   \n",
       "9488747                          [BACKGROUND, CASE REPORTS]   \n",
       "17208539                        [PURPOSE, METHODS, RESULTS]   \n",
       "10808977  [BACKGROUND, DESIGN, PARTICIPANTS, INTERVENTIO...   \n",
       "\n",
       "                                                     MESHES  YEAR  \\\n",
       "21645374  [Alismataceae, Apoptosis, Cell Differentiation...  2011   \n",
       "16418930  [Adolescent, Adult, Aged, Aged, 80 and over, A...  2006   \n",
       "9488747   [Baths, Histamine, Humans, Infant, Syncope, Ur...  1997   \n",
       "17208539  [Child, Child, Preschool, Colectomy, Female, H...  2007   \n",
       "10808977  [Cost-Benefit Analysis, Female, Health Mainten...  2000   \n",
       "\n",
       "         reasoning_required_pred reasoning_free_pred final_decision  \\\n",
       "21645374                     yes                 yes            yes   \n",
       "16418930                      no                  no             no   \n",
       "9488747                      yes                 yes            yes   \n",
       "17208539                     yes                  no             no   \n",
       "10808977                     yes                  no            yes   \n",
       "\n",
       "                                                LONG_ANSWER  \n",
       "21645374  Results depicted mitochondrial dynamics in viv...  \n",
       "16418930  Using the charts described, there was only a s...  \n",
       "9488747   \"Aquagenic maladies\" could be a pediatric form...  \n",
       "17208539  Our long-term study showed significantly bette...  \n",
       "10808977  The effects of the intervention were most pron...  "
      ]
     },
     "execution_count": 8,
     "metadata": {},
     "output_type": "execute_result"
    }
   ],
   "source": [
    "df2.head()"
   ]
  },
  {
   "cell_type": "code",
   "execution_count": 11,
   "id": "52b6e85b",
   "metadata": {},
   "outputs": [],
   "source": [
    "# Create list\n",
    "cols = ['LABELS', 'MESHES', 'YEAR', 'reasoning_required_pred', 'reasoning_free_pred','LONG_ANSWER']\n",
    "\n",
    "# drop columns if in the list above\n",
    "df3 = df2.drop(columns=[c for c in cols if c in df2.columns])"
   ]
  },
  {
   "cell_type": "code",
   "execution_count": 12,
   "id": "803ed9d0",
   "metadata": {},
   "outputs": [
    {
     "data": {
      "text/html": [
       "<div>\n",
       "<style scoped>\n",
       "    .dataframe tbody tr th:only-of-type {\n",
       "        vertical-align: middle;\n",
       "    }\n",
       "\n",
       "    .dataframe tbody tr th {\n",
       "        vertical-align: top;\n",
       "    }\n",
       "\n",
       "    .dataframe thead th {\n",
       "        text-align: right;\n",
       "    }\n",
       "</style>\n",
       "<table border=\"1\" class=\"dataframe\">\n",
       "  <thead>\n",
       "    <tr style=\"text-align: right;\">\n",
       "      <th></th>\n",
       "      <th>QUESTION</th>\n",
       "      <th>CONTEXTS</th>\n",
       "      <th>final_decision</th>\n",
       "    </tr>\n",
       "  </thead>\n",
       "  <tbody>\n",
       "    <tr>\n",
       "      <th>21645374</th>\n",
       "      <td>Do mitochondria play a role in remodelling lac...</td>\n",
       "      <td>[Programmed cell death (PCD) is the regulated ...</td>\n",
       "      <td>yes</td>\n",
       "    </tr>\n",
       "    <tr>\n",
       "      <th>16418930</th>\n",
       "      <td>Landolt C and snellen e acuity: differences in...</td>\n",
       "      <td>[Assessment of visual acuity depends on the op...</td>\n",
       "      <td>no</td>\n",
       "    </tr>\n",
       "    <tr>\n",
       "      <th>9488747</th>\n",
       "      <td>Syncope during bathing in infants, a pediatric...</td>\n",
       "      <td>[Apparent life-threatening events in infants a...</td>\n",
       "      <td>yes</td>\n",
       "    </tr>\n",
       "    <tr>\n",
       "      <th>17208539</th>\n",
       "      <td>Are the long-term results of the transanal pul...</td>\n",
       "      <td>[The transanal endorectal pull-through (TERPT)...</td>\n",
       "      <td>no</td>\n",
       "    </tr>\n",
       "    <tr>\n",
       "      <th>10808977</th>\n",
       "      <td>Can tailored interventions increase mammograph...</td>\n",
       "      <td>[Telephone counseling and tailored print commu...</td>\n",
       "      <td>yes</td>\n",
       "    </tr>\n",
       "  </tbody>\n",
       "</table>\n",
       "</div>"
      ],
      "text/plain": [
       "                                                   QUESTION  \\\n",
       "21645374  Do mitochondria play a role in remodelling lac...   \n",
       "16418930  Landolt C and snellen e acuity: differences in...   \n",
       "9488747   Syncope during bathing in infants, a pediatric...   \n",
       "17208539  Are the long-term results of the transanal pul...   \n",
       "10808977  Can tailored interventions increase mammograph...   \n",
       "\n",
       "                                                   CONTEXTS final_decision  \n",
       "21645374  [Programmed cell death (PCD) is the regulated ...            yes  \n",
       "16418930  [Assessment of visual acuity depends on the op...             no  \n",
       "9488747   [Apparent life-threatening events in infants a...            yes  \n",
       "17208539  [The transanal endorectal pull-through (TERPT)...             no  \n",
       "10808977  [Telephone counseling and tailored print commu...            yes  "
      ]
     },
     "execution_count": 12,
     "metadata": {},
     "output_type": "execute_result"
    }
   ],
   "source": [
    "df3.head()"
   ]
  },
  {
   "cell_type": "code",
   "execution_count": 13,
   "id": "88e2cc9c",
   "metadata": {},
   "outputs": [
    {
     "name": "stdout",
     "output_type": "stream",
     "text": [
      "final_decision\n",
      "yes      552\n",
      "no       338\n",
      "maybe    110\n",
      "Name: count, dtype: int64\n"
     ]
    }
   ],
   "source": [
    "counts = df3['final_decision'].value_counts()\n",
    "print(counts)"
   ]
  },
  {
   "cell_type": "code",
   "execution_count": 14,
   "id": "1a9d9225",
   "metadata": {},
   "outputs": [],
   "source": [
    "# Drop rows where final_decision == \"maybe\"\n",
    "df3 = df3[df3[\"final_decision\"].isin([\"yes\", \"no\"])]"
   ]
  },
  {
   "cell_type": "code",
   "execution_count": 15,
   "id": "9fa80d65",
   "metadata": {},
   "outputs": [
    {
     "name": "stdout",
     "output_type": "stream",
     "text": [
      "final_decision\n",
      "yes    552\n",
      "no     338\n",
      "Name: count, dtype: int64\n"
     ]
    }
   ],
   "source": [
    "counts = df3['final_decision'].value_counts()\n",
    "print(counts)"
   ]
  },
  {
   "cell_type": "code",
   "execution_count": 16,
   "id": "f3bc3af9",
   "metadata": {},
   "outputs": [
    {
     "data": {
      "text/plain": [
       "QUESTION          object\n",
       "CONTEXTS          object\n",
       "final_decision    object\n",
       "dtype: object"
      ]
     },
     "execution_count": 16,
     "metadata": {},
     "output_type": "execute_result"
    }
   ],
   "source": [
    "df3.dtypes"
   ]
  },
  {
   "cell_type": "code",
   "execution_count": 20,
   "id": "f30e116e",
   "metadata": {},
   "outputs": [],
   "source": [
    "# Make 'id' the index\n",
    "df3.index.name = \"id\"\n"
   ]
  },
  {
   "cell_type": "code",
   "execution_count": 24,
   "id": "8db8074e",
   "metadata": {},
   "outputs": [],
   "source": [
    "# Clean CONTEXTS column:\n",
    "# Right now it's stored as a list string like [\"text\", \"text2\"]\n",
    "# Join list entries into one string, and strip [] if they’re literal strings\n",
    "df3[\"CONTEXTS\"] = df3[\"CONTEXTS\"].apply(\n",
    "    lambda x: \" \".join(x) if isinstance(x, list) else str(x).strip(\"[]\")\n",
    ")"
   ]
  },
  {
   "cell_type": "code",
   "execution_count": 27,
   "id": "466c1f22",
   "metadata": {},
   "outputs": [],
   "source": [
    "# Lowercase all column names\n",
    "df3.columns = [c.lower() for c in df3.columns]"
   ]
  },
  {
   "cell_type": "code",
   "execution_count": 28,
   "id": "0c65aa16",
   "metadata": {},
   "outputs": [
    {
     "data": {
      "text/html": [
       "<div>\n",
       "<style scoped>\n",
       "    .dataframe tbody tr th:only-of-type {\n",
       "        vertical-align: middle;\n",
       "    }\n",
       "\n",
       "    .dataframe tbody tr th {\n",
       "        vertical-align: top;\n",
       "    }\n",
       "\n",
       "    .dataframe thead th {\n",
       "        text-align: right;\n",
       "    }\n",
       "</style>\n",
       "<table border=\"1\" class=\"dataframe\">\n",
       "  <thead>\n",
       "    <tr style=\"text-align: right;\">\n",
       "      <th></th>\n",
       "      <th>question</th>\n",
       "      <th>contexts</th>\n",
       "      <th>final_decision</th>\n",
       "    </tr>\n",
       "    <tr>\n",
       "      <th>id</th>\n",
       "      <th></th>\n",
       "      <th></th>\n",
       "      <th></th>\n",
       "    </tr>\n",
       "  </thead>\n",
       "  <tbody>\n",
       "    <tr>\n",
       "      <th>21645374</th>\n",
       "      <td>Do mitochondria play a role in remodelling lac...</td>\n",
       "      <td>Programmed cell death (PCD) is the regulated d...</td>\n",
       "      <td>yes</td>\n",
       "    </tr>\n",
       "    <tr>\n",
       "      <th>16418930</th>\n",
       "      <td>Landolt C and snellen e acuity: differences in...</td>\n",
       "      <td>Assessment of visual acuity depends on the opt...</td>\n",
       "      <td>no</td>\n",
       "    </tr>\n",
       "    <tr>\n",
       "      <th>9488747</th>\n",
       "      <td>Syncope during bathing in infants, a pediatric...</td>\n",
       "      <td>Apparent life-threatening events in infants ar...</td>\n",
       "      <td>yes</td>\n",
       "    </tr>\n",
       "    <tr>\n",
       "      <th>17208539</th>\n",
       "      <td>Are the long-term results of the transanal pul...</td>\n",
       "      <td>The transanal endorectal pull-through (TERPT) ...</td>\n",
       "      <td>no</td>\n",
       "    </tr>\n",
       "    <tr>\n",
       "      <th>10808977</th>\n",
       "      <td>Can tailored interventions increase mammograph...</td>\n",
       "      <td>Telephone counseling and tailored print commun...</td>\n",
       "      <td>yes</td>\n",
       "    </tr>\n",
       "  </tbody>\n",
       "</table>\n",
       "</div>"
      ],
      "text/plain": [
       "                                                   question  \\\n",
       "id                                                            \n",
       "21645374  Do mitochondria play a role in remodelling lac...   \n",
       "16418930  Landolt C and snellen e acuity: differences in...   \n",
       "9488747   Syncope during bathing in infants, a pediatric...   \n",
       "17208539  Are the long-term results of the transanal pul...   \n",
       "10808977  Can tailored interventions increase mammograph...   \n",
       "\n",
       "                                                   contexts final_decision  \n",
       "id                                                                          \n",
       "21645374  Programmed cell death (PCD) is the regulated d...            yes  \n",
       "16418930  Assessment of visual acuity depends on the opt...             no  \n",
       "9488747   Apparent life-threatening events in infants ar...            yes  \n",
       "17208539  The transanal endorectal pull-through (TERPT) ...             no  \n",
       "10808977  Telephone counseling and tailored print commun...            yes  "
      ]
     },
     "execution_count": 28,
     "metadata": {},
     "output_type": "execute_result"
    }
   ],
   "source": [
    "df3.head()"
   ]
  },
  {
   "cell_type": "code",
   "execution_count": 29,
   "id": "8014f951",
   "metadata": {},
   "outputs": [
    {
     "data": {
      "text/plain": [
       "question          0\n",
       "contexts          0\n",
       "final_decision    0\n",
       "dtype: int64"
      ]
     },
     "execution_count": 29,
     "metadata": {},
     "output_type": "execute_result"
    }
   ],
   "source": [
    "df3.isna().sum()"
   ]
  },
  {
   "cell_type": "code",
   "execution_count": 31,
   "id": "fd68d4d4",
   "metadata": {},
   "outputs": [
    {
     "data": {
      "text/plain": [
       "question          object\n",
       "contexts          object\n",
       "final_decision    object\n",
       "dtype: object"
      ]
     },
     "execution_count": 31,
     "metadata": {},
     "output_type": "execute_result"
    }
   ],
   "source": [
    "df3.dtypes"
   ]
  },
  {
   "cell_type": "code",
   "execution_count": 30,
   "id": "40c3acab",
   "metadata": {},
   "outputs": [
    {
     "name": "stdout",
     "output_type": "stream",
     "text": [
      "Saved cleaned dataset to /Users/Rex/vscode/decrease_hallucinations_via_chained_multimethods/llm_prompt_and_prefix_tuning/data/clean/pubmedqa_clean.csv\n"
     ]
    }
   ],
   "source": [
    "# Reset index so 'id' becomes a normal column\n",
    "df3_reset = df3.reset_index()\n",
    "\n",
    "# Save to a specific directory (example: ./data/clean/)\n",
    "save_path = \"/Users/Rex/vscode/decrease_hallucinations_via_chained_multimethods/llm_prompt_and_prefix_tuning/data/clean/pubmedqa_clean.csv\"\n",
    "\n",
    "df3_reset.to_csv(save_path, index=False)\n",
    "\n",
    "print(f\"Saved cleaned dataset to {save_path}\")\n"
   ]
  },
  {
   "cell_type": "code",
   "execution_count": null,
   "id": "ede1bdf0",
   "metadata": {},
   "outputs": [],
   "source": [
    "#DONE WITH CLEANING"
   ]
  },
  {
   "cell_type": "code",
   "execution_count": 33,
   "id": "d5e476cf",
   "metadata": {},
   "outputs": [
    {
     "name": "stdout",
     "output_type": "stream",
     "text": [
      "final_decision\n",
      "yes    552\n",
      "no     338\n",
      "Name: count, dtype: int64\n"
     ]
    }
   ],
   "source": [
    "counts2 = df3['final_decision'].value_counts()\n",
    "print(counts2)"
   ]
  },
  {
   "cell_type": "code",
   "execution_count": 40,
   "id": "e66647d4",
   "metadata": {},
   "outputs": [
    {
     "name": "stdout",
     "output_type": "stream",
     "text": [
      "split\n",
      "train    712\n",
      "val       89\n",
      "test      89\n",
      "Name: count, dtype: int64\n",
      "split  final_decision\n",
      "test   yes                55\n",
      "       no                 34\n",
      "train  yes               442\n",
      "       no                270\n",
      "val    yes                55\n",
      "       no                 34\n",
      "Name: count, dtype: int64\n"
     ]
    }
   ],
   "source": [
    "from sklearn.model_selection import train_test_split\n",
    "\n",
    "# Features and labels\n",
    "X = df3.reset_index(drop=False)   # reset index for clean splitting\n",
    "y = X[\"final_decision\"]\n",
    "\n",
    "# First split: train vs temp (val+test)\n",
    "X_train, X_temp, y_train, y_temp = train_test_split(\n",
    "    X, y, test_size=0.2, stratify=y, random_state=42\n",
    ")\n",
    "\n",
    "# Second split: validation vs test (split temp into half/half)\n",
    "X_val, X_test, y_val, y_test = train_test_split(\n",
    "    X_temp, y_temp, test_size=0.5, stratify=y_temp, random_state=42\n",
    ")\n",
    "\n",
    "# Add a split column to the original data\n",
    "X_train[\"split\"] = \"train\"\n",
    "X_val[\"split\"] = \"val\"\n",
    "X_test[\"split\"] = \"test\"\n",
    "\n",
    "# Combine back\n",
    "df_split = pd.concat([X_train, X_val, X_test])\n",
    "\n",
    "# Save split dataset\n",
    "df_split.to_csv(\"pubmedqa_split.csv\", index=False)\n",
    "\n",
    "print(df_split[\"split\"].value_counts())\n",
    "print(df_split.groupby(\"split\")[\"final_decision\"].value_counts())\n"
   ]
  },
  {
   "cell_type": "code",
   "execution_count": 41,
   "id": "1e3eaaa4",
   "metadata": {},
   "outputs": [
    {
     "name": "stdout",
     "output_type": "stream",
     "text": [
      "Saved train, val, and test CSVs.\n"
     ]
    }
   ],
   "source": [
    "# Save each split separately\n",
    "X_train.to_csv(\"pubmedqa_train.csv\", index=False)\n",
    "X_val.to_csv(\"pubmedqa_val.csv\", index=False)\n",
    "X_test.to_csv(\"pubmedqa_test.csv\", index=False)\n",
    "\n",
    "print(\"Saved train, val, and test CSVs.\")\n"
   ]
  },
  {
   "cell_type": "code",
   "execution_count": 42,
   "id": "6cd4ce7f",
   "metadata": {},
   "outputs": [
    {
     "data": {
      "text/html": [
       "<div>\n",
       "<style scoped>\n",
       "    .dataframe tbody tr th:only-of-type {\n",
       "        vertical-align: middle;\n",
       "    }\n",
       "\n",
       "    .dataframe tbody tr th {\n",
       "        vertical-align: top;\n",
       "    }\n",
       "\n",
       "    .dataframe thead th {\n",
       "        text-align: right;\n",
       "    }\n",
       "</style>\n",
       "<table border=\"1\" class=\"dataframe\">\n",
       "  <thead>\n",
       "    <tr style=\"text-align: right;\">\n",
       "      <th></th>\n",
       "      <th>id</th>\n",
       "      <th>question</th>\n",
       "      <th>contexts</th>\n",
       "      <th>final_decision</th>\n",
       "      <th>split</th>\n",
       "    </tr>\n",
       "  </thead>\n",
       "  <tbody>\n",
       "    <tr>\n",
       "      <th>616</th>\n",
       "      <td>16266387</td>\n",
       "      <td>Fast foods - are they a risk factor for asthma?</td>\n",
       "      <td>Lifestyle changes over the last 30 years are t...</td>\n",
       "      <td>yes</td>\n",
       "      <td>train</td>\n",
       "    </tr>\n",
       "    <tr>\n",
       "      <th>634</th>\n",
       "      <td>24235894</td>\n",
       "      <td>Is there a first night effect on sleep bruxism?</td>\n",
       "      <td>Sleep bruxism (SB) is reported to vary in freq...</td>\n",
       "      <td>no</td>\n",
       "      <td>train</td>\n",
       "    </tr>\n",
       "    <tr>\n",
       "      <th>556</th>\n",
       "      <td>19108857</td>\n",
       "      <td>Cerebromediastinal tuberculosis in a child wit...</td>\n",
       "      <td>Tuberculosis continues to be a public health p...</td>\n",
       "      <td>yes</td>\n",
       "      <td>train</td>\n",
       "    </tr>\n",
       "    <tr>\n",
       "      <th>2</th>\n",
       "      <td>9488747</td>\n",
       "      <td>Syncope during bathing in infants, a pediatric...</td>\n",
       "      <td>Apparent life-threatening events in infants ar...</td>\n",
       "      <td>yes</td>\n",
       "      <td>train</td>\n",
       "    </tr>\n",
       "    <tr>\n",
       "      <th>667</th>\n",
       "      <td>8916748</td>\n",
       "      <td>Do socioeconomic differences in mortality pers...</td>\n",
       "      <td>To assess the risk of death associated with wo...</td>\n",
       "      <td>yes</td>\n",
       "      <td>train</td>\n",
       "    </tr>\n",
       "  </tbody>\n",
       "</table>\n",
       "</div>"
      ],
      "text/plain": [
       "           id                                           question  \\\n",
       "616  16266387    Fast foods - are they a risk factor for asthma?   \n",
       "634  24235894    Is there a first night effect on sleep bruxism?   \n",
       "556  19108857  Cerebromediastinal tuberculosis in a child wit...   \n",
       "2     9488747  Syncope during bathing in infants, a pediatric...   \n",
       "667   8916748  Do socioeconomic differences in mortality pers...   \n",
       "\n",
       "                                              contexts final_decision  split  \n",
       "616  Lifestyle changes over the last 30 years are t...            yes  train  \n",
       "634  Sleep bruxism (SB) is reported to vary in freq...             no  train  \n",
       "556  Tuberculosis continues to be a public health p...            yes  train  \n",
       "2    Apparent life-threatening events in infants ar...            yes  train  \n",
       "667  To assess the risk of death associated with wo...            yes  train  "
      ]
     },
     "execution_count": 42,
     "metadata": {},
     "output_type": "execute_result"
    }
   ],
   "source": [
    "X_train.head()"
   ]
  },
  {
   "cell_type": "code",
   "execution_count": 43,
   "id": "408f0fc3",
   "metadata": {},
   "outputs": [
    {
     "data": {
      "text/html": [
       "<div>\n",
       "<style scoped>\n",
       "    .dataframe tbody tr th:only-of-type {\n",
       "        vertical-align: middle;\n",
       "    }\n",
       "\n",
       "    .dataframe tbody tr th {\n",
       "        vertical-align: top;\n",
       "    }\n",
       "\n",
       "    .dataframe thead th {\n",
       "        text-align: right;\n",
       "    }\n",
       "</style>\n",
       "<table border=\"1\" class=\"dataframe\">\n",
       "  <thead>\n",
       "    <tr style=\"text-align: right;\">\n",
       "      <th></th>\n",
       "      <th>id</th>\n",
       "      <th>question</th>\n",
       "      <th>contexts</th>\n",
       "      <th>final_decision</th>\n",
       "      <th>split</th>\n",
       "    </tr>\n",
       "  </thead>\n",
       "  <tbody>\n",
       "    <tr>\n",
       "      <th>860</th>\n",
       "      <td>17062234</td>\n",
       "      <td>Surgical management of the atherosclerotic asc...</td>\n",
       "      <td>Occlusion of the atherosclerotic ascending aor...</td>\n",
       "      <td>no</td>\n",
       "      <td>val</td>\n",
       "    </tr>\n",
       "    <tr>\n",
       "      <th>799</th>\n",
       "      <td>22902073</td>\n",
       "      <td>Estimated fetal weight by ultrasound: a modifi...</td>\n",
       "      <td>The purpose of this study was to investigate w...</td>\n",
       "      <td>yes</td>\n",
       "      <td>val</td>\n",
       "    </tr>\n",
       "    <tr>\n",
       "      <th>828</th>\n",
       "      <td>25891436</td>\n",
       "      <td>Is serum total bilirubin useful to differentia...</td>\n",
       "      <td>Previous studies have reported that the total ...</td>\n",
       "      <td>yes</td>\n",
       "      <td>val</td>\n",
       "    </tr>\n",
       "    <tr>\n",
       "      <th>421</th>\n",
       "      <td>24191126</td>\n",
       "      <td>Is CA72-4 a useful biomarker in differential d...</td>\n",
       "      <td>Surgical excision of ovarian endometriomas in ...</td>\n",
       "      <td>yes</td>\n",
       "      <td>val</td>\n",
       "    </tr>\n",
       "    <tr>\n",
       "      <th>809</th>\n",
       "      <td>18568239</td>\n",
       "      <td>Is the ability to perform transurethral resect...</td>\n",
       "      <td>To evaluate the influence of the urologist's e...</td>\n",
       "      <td>yes</td>\n",
       "      <td>val</td>\n",
       "    </tr>\n",
       "  </tbody>\n",
       "</table>\n",
       "</div>"
      ],
      "text/plain": [
       "           id                                           question  \\\n",
       "860  17062234  Surgical management of the atherosclerotic asc...   \n",
       "799  22902073  Estimated fetal weight by ultrasound: a modifi...   \n",
       "828  25891436  Is serum total bilirubin useful to differentia...   \n",
       "421  24191126  Is CA72-4 a useful biomarker in differential d...   \n",
       "809  18568239  Is the ability to perform transurethral resect...   \n",
       "\n",
       "                                              contexts final_decision split  \n",
       "860  Occlusion of the atherosclerotic ascending aor...             no   val  \n",
       "799  The purpose of this study was to investigate w...            yes   val  \n",
       "828  Previous studies have reported that the total ...            yes   val  \n",
       "421  Surgical excision of ovarian endometriomas in ...            yes   val  \n",
       "809  To evaluate the influence of the urologist's e...            yes   val  "
      ]
     },
     "execution_count": 43,
     "metadata": {},
     "output_type": "execute_result"
    }
   ],
   "source": [
    "X_val.head()"
   ]
  },
  {
   "cell_type": "code",
   "execution_count": 1,
   "id": "8b10a25c",
   "metadata": {},
   "outputs": [
    {
     "ename": "NameError",
     "evalue": "name 'X_test' is not defined",
     "output_type": "error",
     "traceback": [
      "\u001b[31m---------------------------------------------------------------------------\u001b[39m",
      "\u001b[31mNameError\u001b[39m                                 Traceback (most recent call last)",
      "\u001b[36mCell\u001b[39m\u001b[36m \u001b[39m\u001b[32mIn[1]\u001b[39m\u001b[32m, line 1\u001b[39m\n\u001b[32m----> \u001b[39m\u001b[32m1\u001b[39m \u001b[43mX_test\u001b[49m.head()\n\u001b[32m      3\u001b[39m \u001b[38;5;66;03m# Will mask labels during inference\u001b[39;00m\n",
      "\u001b[31mNameError\u001b[39m: name 'X_test' is not defined"
     ]
    }
   ],
   "source": [
    "X_test.head()\n",
    "\n",
    "# Will mask labels during inference"
   ]
  },
  {
   "cell_type": "code",
   "execution_count": 4,
   "id": "f14c6016",
   "metadata": {},
   "outputs": [],
   "source": [
    "df_test = pd.read_csv(\"/Users/Rex/vscode/decrease_hallucinations_via_chained_multimethods/llm_prompt_and_prefix_tuning/data/clean/pubmedqa_test.csv\")\n",
    "df_train = pd.read_csv(\"/Users/Rex/vscode/decrease_hallucinations_via_chained_multimethods/llm_prompt_and_prefix_tuning/data/clean/pubmedqa_train.csv\")\n",
    "df_val =pd.read_csv(\"/Users/Rex/vscode/decrease_hallucinations_via_chained_multimethods/llm_prompt_and_prefix_tuning/data/clean/pubmedqa_val.csv\")"
   ]
  },
  {
   "cell_type": "code",
   "execution_count": 5,
   "id": "bfa370c8",
   "metadata": {},
   "outputs": [
    {
     "data": {
      "text/html": [
       "<div>\n",
       "<style scoped>\n",
       "    .dataframe tbody tr th:only-of-type {\n",
       "        vertical-align: middle;\n",
       "    }\n",
       "\n",
       "    .dataframe tbody tr th {\n",
       "        vertical-align: top;\n",
       "    }\n",
       "\n",
       "    .dataframe thead th {\n",
       "        text-align: right;\n",
       "    }\n",
       "</style>\n",
       "<table border=\"1\" class=\"dataframe\">\n",
       "  <thead>\n",
       "    <tr style=\"text-align: right;\">\n",
       "      <th></th>\n",
       "      <th>id</th>\n",
       "      <th>question</th>\n",
       "      <th>contexts</th>\n",
       "      <th>final_decision</th>\n",
       "      <th>split</th>\n",
       "    </tr>\n",
       "  </thead>\n",
       "  <tbody>\n",
       "    <tr>\n",
       "      <th>0</th>\n",
       "      <td>10757151</td>\n",
       "      <td>Does ischemic preconditioning require reperfus...</td>\n",
       "      <td>Ischemic preconditioning (IP) is initiated thr...</td>\n",
       "      <td>no</td>\n",
       "      <td>test</td>\n",
       "    </tr>\n",
       "    <tr>\n",
       "      <th>1</th>\n",
       "      <td>11926574</td>\n",
       "      <td>Are hepatitis G virus and TT virus involved in...</td>\n",
       "      <td>Hepatitis G virus can cause chronic infection ...</td>\n",
       "      <td>no</td>\n",
       "      <td>test</td>\n",
       "    </tr>\n",
       "    <tr>\n",
       "      <th>2</th>\n",
       "      <td>21256734</td>\n",
       "      <td>Does pain intensity predict a poor opioid resp...</td>\n",
       "      <td>A secondary analysis of one-hundred-sixty-seve...</td>\n",
       "      <td>no</td>\n",
       "      <td>test</td>\n",
       "    </tr>\n",
       "    <tr>\n",
       "      <th>3</th>\n",
       "      <td>20537205</td>\n",
       "      <td>Is halofantrine ototoxic?</td>\n",
       "      <td>Halofantrine is a newly developed antimalarial...</td>\n",
       "      <td>yes</td>\n",
       "      <td>test</td>\n",
       "    </tr>\n",
       "    <tr>\n",
       "      <th>4</th>\n",
       "      <td>16498158</td>\n",
       "      <td>Is atropine needed with ketamine sedation?</td>\n",
       "      <td>To compare atropine with placebo as an adjunct...</td>\n",
       "      <td>yes</td>\n",
       "      <td>test</td>\n",
       "    </tr>\n",
       "  </tbody>\n",
       "</table>\n",
       "</div>"
      ],
      "text/plain": [
       "         id                                           question  \\\n",
       "0  10757151  Does ischemic preconditioning require reperfus...   \n",
       "1  11926574  Are hepatitis G virus and TT virus involved in...   \n",
       "2  21256734  Does pain intensity predict a poor opioid resp...   \n",
       "3  20537205                          Is halofantrine ototoxic?   \n",
       "4  16498158         Is atropine needed with ketamine sedation?   \n",
       "\n",
       "                                            contexts final_decision split  \n",
       "0  Ischemic preconditioning (IP) is initiated thr...             no  test  \n",
       "1  Hepatitis G virus can cause chronic infection ...             no  test  \n",
       "2  A secondary analysis of one-hundred-sixty-seve...             no  test  \n",
       "3  Halofantrine is a newly developed antimalarial...            yes  test  \n",
       "4  To compare atropine with placebo as an adjunct...            yes  test  "
      ]
     },
     "execution_count": 5,
     "metadata": {},
     "output_type": "execute_result"
    }
   ],
   "source": [
    "df_test.head()"
   ]
  },
  {
   "cell_type": "code",
   "execution_count": 6,
   "id": "a5774561",
   "metadata": {},
   "outputs": [
    {
     "name": "stdout",
     "output_type": "stream",
     "text": [
      "Saved cleaned test CSV without 'split'.\n"
     ]
    }
   ],
   "source": [
    "# Drop the 'split' column\n",
    "df_test_clean = df_test.drop(columns=[\"split\"])\n",
    "\n",
    "# Save to a new CSV\n",
    "df_test_clean.to_csv(\"pubmedqa_test_clean.csv\", index=False)\n",
    "\n",
    "print(\"Saved cleaned test CSV without 'split'.\")\n"
   ]
  },
  {
   "cell_type": "markdown",
   "id": "c461f767",
   "metadata": {},
   "source": []
  },
  {
   "cell_type": "code",
   "execution_count": 7,
   "id": "fe61f17e",
   "metadata": {},
   "outputs": [],
   "source": [
    "df_train_clean = df_train.drop(columns=[\"split\"])\n",
    "df_val_clean = df_val.drop(columns=[\"split\"])\n",
    "\n",
    "df_train_clean.to_csv(\"pubmedqa_train_clean.csv\", index=False)\n",
    "df_val_clean.to_csv(\"pubmedqa_val_clean.csv\", index=False)"
   ]
  },
  {
   "cell_type": "code",
   "execution_count": 8,
   "id": "a197cca5",
   "metadata": {},
   "outputs": [
    {
     "data": {
      "text/html": [
       "<div>\n",
       "<style scoped>\n",
       "    .dataframe tbody tr th:only-of-type {\n",
       "        vertical-align: middle;\n",
       "    }\n",
       "\n",
       "    .dataframe tbody tr th {\n",
       "        vertical-align: top;\n",
       "    }\n",
       "\n",
       "    .dataframe thead th {\n",
       "        text-align: right;\n",
       "    }\n",
       "</style>\n",
       "<table border=\"1\" class=\"dataframe\">\n",
       "  <thead>\n",
       "    <tr style=\"text-align: right;\">\n",
       "      <th></th>\n",
       "      <th>id</th>\n",
       "      <th>question</th>\n",
       "      <th>contexts</th>\n",
       "      <th>final_decision</th>\n",
       "    </tr>\n",
       "  </thead>\n",
       "  <tbody>\n",
       "    <tr>\n",
       "      <th>0</th>\n",
       "      <td>16266387</td>\n",
       "      <td>Fast foods - are they a risk factor for asthma?</td>\n",
       "      <td>Lifestyle changes over the last 30 years are t...</td>\n",
       "      <td>yes</td>\n",
       "    </tr>\n",
       "    <tr>\n",
       "      <th>1</th>\n",
       "      <td>24235894</td>\n",
       "      <td>Is there a first night effect on sleep bruxism?</td>\n",
       "      <td>Sleep bruxism (SB) is reported to vary in freq...</td>\n",
       "      <td>no</td>\n",
       "    </tr>\n",
       "    <tr>\n",
       "      <th>2</th>\n",
       "      <td>19108857</td>\n",
       "      <td>Cerebromediastinal tuberculosis in a child wit...</td>\n",
       "      <td>Tuberculosis continues to be a public health p...</td>\n",
       "      <td>yes</td>\n",
       "    </tr>\n",
       "    <tr>\n",
       "      <th>3</th>\n",
       "      <td>9488747</td>\n",
       "      <td>Syncope during bathing in infants, a pediatric...</td>\n",
       "      <td>Apparent life-threatening events in infants ar...</td>\n",
       "      <td>yes</td>\n",
       "    </tr>\n",
       "    <tr>\n",
       "      <th>4</th>\n",
       "      <td>8916748</td>\n",
       "      <td>Do socioeconomic differences in mortality pers...</td>\n",
       "      <td>To assess the risk of death associated with wo...</td>\n",
       "      <td>yes</td>\n",
       "    </tr>\n",
       "  </tbody>\n",
       "</table>\n",
       "</div>"
      ],
      "text/plain": [
       "         id                                           question  \\\n",
       "0  16266387    Fast foods - are they a risk factor for asthma?   \n",
       "1  24235894    Is there a first night effect on sleep bruxism?   \n",
       "2  19108857  Cerebromediastinal tuberculosis in a child wit...   \n",
       "3   9488747  Syncope during bathing in infants, a pediatric...   \n",
       "4   8916748  Do socioeconomic differences in mortality pers...   \n",
       "\n",
       "                                            contexts final_decision  \n",
       "0  Lifestyle changes over the last 30 years are t...            yes  \n",
       "1  Sleep bruxism (SB) is reported to vary in freq...             no  \n",
       "2  Tuberculosis continues to be a public health p...            yes  \n",
       "3  Apparent life-threatening events in infants ar...            yes  \n",
       "4  To assess the risk of death associated with wo...            yes  "
      ]
     },
     "execution_count": 8,
     "metadata": {},
     "output_type": "execute_result"
    }
   ],
   "source": [
    "# Check\n",
    "df_train_clean.head()"
   ]
  },
  {
   "cell_type": "code",
   "execution_count": null,
   "id": "8d31f26b",
   "metadata": {},
   "outputs": [],
   "source": [
    "# DONE WITH CLEANING"
   ]
  },
  {
   "cell_type": "code",
   "execution_count": 3,
   "id": "7d05bd15",
   "metadata": {},
   "outputs": [],
   "source": [
    "df_val_clean_check_class = pd.read_csv(\"/Users/Rex/vscode/llm_prompt_and_prefix_tuning/data/clean_final/pubmedqa_train_clean.csv\")"
   ]
  },
  {
   "cell_type": "code",
   "execution_count": 4,
   "id": "16b68359",
   "metadata": {},
   "outputs": [
    {
     "data": {
      "text/html": [
       "<div>\n",
       "<style scoped>\n",
       "    .dataframe tbody tr th:only-of-type {\n",
       "        vertical-align: middle;\n",
       "    }\n",
       "\n",
       "    .dataframe tbody tr th {\n",
       "        vertical-align: top;\n",
       "    }\n",
       "\n",
       "    .dataframe thead th {\n",
       "        text-align: right;\n",
       "    }\n",
       "</style>\n",
       "<table border=\"1\" class=\"dataframe\">\n",
       "  <thead>\n",
       "    <tr style=\"text-align: right;\">\n",
       "      <th></th>\n",
       "      <th>id</th>\n",
       "      <th>question</th>\n",
       "      <th>contexts</th>\n",
       "      <th>final_decision</th>\n",
       "    </tr>\n",
       "  </thead>\n",
       "  <tbody>\n",
       "    <tr>\n",
       "      <th>0</th>\n",
       "      <td>16266387</td>\n",
       "      <td>Fast foods - are they a risk factor for asthma?</td>\n",
       "      <td>Lifestyle changes over the last 30 years are t...</td>\n",
       "      <td>yes</td>\n",
       "    </tr>\n",
       "    <tr>\n",
       "      <th>1</th>\n",
       "      <td>24235894</td>\n",
       "      <td>Is there a first night effect on sleep bruxism?</td>\n",
       "      <td>Sleep bruxism (SB) is reported to vary in freq...</td>\n",
       "      <td>no</td>\n",
       "    </tr>\n",
       "    <tr>\n",
       "      <th>2</th>\n",
       "      <td>19108857</td>\n",
       "      <td>Cerebromediastinal tuberculosis in a child wit...</td>\n",
       "      <td>Tuberculosis continues to be a public health p...</td>\n",
       "      <td>yes</td>\n",
       "    </tr>\n",
       "    <tr>\n",
       "      <th>3</th>\n",
       "      <td>9488747</td>\n",
       "      <td>Syncope during bathing in infants, a pediatric...</td>\n",
       "      <td>Apparent life-threatening events in infants ar...</td>\n",
       "      <td>yes</td>\n",
       "    </tr>\n",
       "    <tr>\n",
       "      <th>4</th>\n",
       "      <td>8916748</td>\n",
       "      <td>Do socioeconomic differences in mortality pers...</td>\n",
       "      <td>To assess the risk of death associated with wo...</td>\n",
       "      <td>yes</td>\n",
       "    </tr>\n",
       "  </tbody>\n",
       "</table>\n",
       "</div>"
      ],
      "text/plain": [
       "         id                                           question  \\\n",
       "0  16266387    Fast foods - are they a risk factor for asthma?   \n",
       "1  24235894    Is there a first night effect on sleep bruxism?   \n",
       "2  19108857  Cerebromediastinal tuberculosis in a child wit...   \n",
       "3   9488747  Syncope during bathing in infants, a pediatric...   \n",
       "4   8916748  Do socioeconomic differences in mortality pers...   \n",
       "\n",
       "                                            contexts final_decision  \n",
       "0  Lifestyle changes over the last 30 years are t...            yes  \n",
       "1  Sleep bruxism (SB) is reported to vary in freq...             no  \n",
       "2  Tuberculosis continues to be a public health p...            yes  \n",
       "3  Apparent life-threatening events in infants ar...            yes  \n",
       "4  To assess the risk of death associated with wo...            yes  "
      ]
     },
     "execution_count": 4,
     "metadata": {},
     "output_type": "execute_result"
    }
   ],
   "source": [
    "df_val_clean_check_class.head()"
   ]
  },
  {
   "cell_type": "code",
   "execution_count": 6,
   "id": "756edccc",
   "metadata": {},
   "outputs": [
    {
     "data": {
      "text/plain": [
       "final_decision\n",
       "yes    442\n",
       "no     270\n",
       "Name: count, dtype: int64"
      ]
     },
     "execution_count": 6,
     "metadata": {},
     "output_type": "execute_result"
    }
   ],
   "source": [
    "df_val_clean_check_class['final_decision'].value_counts()"
   ]
  }
 ],
 "metadata": {
  "kernelspec": {
   "display_name": "Python 3 (ipykernel)",
   "language": "python",
   "name": "python3"
  },
  "language_info": {
   "codemirror_mode": {
    "name": "ipython",
    "version": 3
   },
   "file_extension": ".py",
   "mimetype": "text/x-python",
   "name": "python",
   "nbconvert_exporter": "python",
   "pygments_lexer": "ipython3",
   "version": "3.12.11"
  }
 },
 "nbformat": 4,
 "nbformat_minor": 5
}
