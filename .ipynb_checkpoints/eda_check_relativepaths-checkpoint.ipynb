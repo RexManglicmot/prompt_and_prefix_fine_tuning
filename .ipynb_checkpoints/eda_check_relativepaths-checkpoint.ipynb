{
 "cells": [
  {
   "cell_type": "code",
   "execution_count": 1,
   "id": "8c67d833",
   "metadata": {},
   "outputs": [],
   "source": [
    "import pandas as pd"
   ]
  },
  {
   "cell_type": "code",
   "execution_count": null,
   "id": "ea3e72c0",
   "metadata": {},
   "outputs": [],
   "source": [
    "# Used relative paths\n",
    "# Issue was when I was in NVIDIA GPU VM\n",
    "df = pd.read_csv(\"data/clean_final/pubmedqa_train_clean.csv\")"
   ]
  },
  {
   "cell_type": "code",
   "execution_count": 3,
   "id": "c8a83ace",
   "metadata": {},
   "outputs": [
    {
     "data": {
      "text/html": [
       "<div>\n",
       "<style scoped>\n",
       "    .dataframe tbody tr th:only-of-type {\n",
       "        vertical-align: middle;\n",
       "    }\n",
       "\n",
       "    .dataframe tbody tr th {\n",
       "        vertical-align: top;\n",
       "    }\n",
       "\n",
       "    .dataframe thead th {\n",
       "        text-align: right;\n",
       "    }\n",
       "</style>\n",
       "<table border=\"1\" class=\"dataframe\">\n",
       "  <thead>\n",
       "    <tr style=\"text-align: right;\">\n",
       "      <th></th>\n",
       "      <th>id</th>\n",
       "      <th>question</th>\n",
       "      <th>contexts</th>\n",
       "      <th>final_decision</th>\n",
       "    </tr>\n",
       "  </thead>\n",
       "  <tbody>\n",
       "    <tr>\n",
       "      <th>0</th>\n",
       "      <td>16266387</td>\n",
       "      <td>Fast foods - are they a risk factor for asthma?</td>\n",
       "      <td>Lifestyle changes over the last 30 years are t...</td>\n",
       "      <td>yes</td>\n",
       "    </tr>\n",
       "    <tr>\n",
       "      <th>1</th>\n",
       "      <td>24235894</td>\n",
       "      <td>Is there a first night effect on sleep bruxism?</td>\n",
       "      <td>Sleep bruxism (SB) is reported to vary in freq...</td>\n",
       "      <td>no</td>\n",
       "    </tr>\n",
       "    <tr>\n",
       "      <th>2</th>\n",
       "      <td>19108857</td>\n",
       "      <td>Cerebromediastinal tuberculosis in a child wit...</td>\n",
       "      <td>Tuberculosis continues to be a public health p...</td>\n",
       "      <td>yes</td>\n",
       "    </tr>\n",
       "    <tr>\n",
       "      <th>3</th>\n",
       "      <td>9488747</td>\n",
       "      <td>Syncope during bathing in infants, a pediatric...</td>\n",
       "      <td>Apparent life-threatening events in infants ar...</td>\n",
       "      <td>yes</td>\n",
       "    </tr>\n",
       "    <tr>\n",
       "      <th>4</th>\n",
       "      <td>8916748</td>\n",
       "      <td>Do socioeconomic differences in mortality pers...</td>\n",
       "      <td>To assess the risk of death associated with wo...</td>\n",
       "      <td>yes</td>\n",
       "    </tr>\n",
       "  </tbody>\n",
       "</table>\n",
       "</div>"
      ],
      "text/plain": [
       "         id                                           question  \\\n",
       "0  16266387    Fast foods - are they a risk factor for asthma?   \n",
       "1  24235894    Is there a first night effect on sleep bruxism?   \n",
       "2  19108857  Cerebromediastinal tuberculosis in a child wit...   \n",
       "3   9488747  Syncope during bathing in infants, a pediatric...   \n",
       "4   8916748  Do socioeconomic differences in mortality pers...   \n",
       "\n",
       "                                            contexts final_decision  \n",
       "0  Lifestyle changes over the last 30 years are t...            yes  \n",
       "1  Sleep bruxism (SB) is reported to vary in freq...             no  \n",
       "2  Tuberculosis continues to be a public health p...            yes  \n",
       "3  Apparent life-threatening events in infants ar...            yes  \n",
       "4  To assess the risk of death associated with wo...            yes  "
      ]
     },
     "execution_count": 3,
     "metadata": {},
     "output_type": "execute_result"
    }
   ],
   "source": [
    "df.head()"
   ]
  }
 ],
 "metadata": {
  "kernelspec": {
   "display_name": "venv_llm_prompt_and_prefix_tuning",
   "language": "python",
   "name": "python3"
  },
  "language_info": {
   "codemirror_mode": {
    "name": "ipython",
    "version": 3
   },
   "file_extension": ".py",
   "mimetype": "text/x-python",
   "name": "python",
   "nbconvert_exporter": "python",
   "pygments_lexer": "ipython3",
   "version": "3.12.6"
  }
 },
 "nbformat": 4,
 "nbformat_minor": 5
}
